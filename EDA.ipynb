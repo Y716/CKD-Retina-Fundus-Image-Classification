{
 "cells": [
  {
   "cell_type": "code",
   "execution_count": 8,
   "id": "c21b5fde",
   "metadata": {},
   "outputs": [
    {
     "data": {
      "text/html": [
       "<div>\n",
       "<style scoped>\n",
       "    .dataframe tbody tr th:only-of-type {\n",
       "        vertical-align: middle;\n",
       "    }\n",
       "\n",
       "    .dataframe tbody tr th {\n",
       "        vertical-align: top;\n",
       "    }\n",
       "\n",
       "    .dataframe thead th {\n",
       "        text-align: right;\n",
       "    }\n",
       "</style>\n",
       "<table border=\"1\" class=\"dataframe\">\n",
       "  <thead>\n",
       "    <tr style=\"text-align: right;\">\n",
       "      <th></th>\n",
       "      <th>Class</th>\n",
       "      <th>Images</th>\n",
       "    </tr>\n",
       "  </thead>\n",
       "  <tbody>\n",
       "    <tr>\n",
       "      <th>0</th>\n",
       "      <td>1_normal</td>\n",
       "      <td>NL_011.png</td>\n",
       "    </tr>\n",
       "    <tr>\n",
       "      <th>1</th>\n",
       "      <td>1_normal</td>\n",
       "      <td>NL_040.png</td>\n",
       "    </tr>\n",
       "    <tr>\n",
       "      <th>2</th>\n",
       "      <td>1_normal</td>\n",
       "      <td>NL_118.png</td>\n",
       "    </tr>\n",
       "    <tr>\n",
       "      <th>3</th>\n",
       "      <td>1_normal</td>\n",
       "      <td>NL_032.png</td>\n",
       "    </tr>\n",
       "    <tr>\n",
       "      <th>4</th>\n",
       "      <td>1_normal</td>\n",
       "      <td>NL_116.png</td>\n",
       "    </tr>\n",
       "    <tr>\n",
       "      <th>...</th>\n",
       "      <td>...</td>\n",
       "      <td>...</td>\n",
       "    </tr>\n",
       "    <tr>\n",
       "      <th>596</th>\n",
       "      <td>4_retina_disease</td>\n",
       "      <td>Retina_013.png</td>\n",
       "    </tr>\n",
       "    <tr>\n",
       "      <th>597</th>\n",
       "      <td>4_retina_disease</td>\n",
       "      <td>Retina_014.png</td>\n",
       "    </tr>\n",
       "    <tr>\n",
       "      <th>598</th>\n",
       "      <td>4_retina_disease</td>\n",
       "      <td>Retina_068.png</td>\n",
       "    </tr>\n",
       "    <tr>\n",
       "      <th>599</th>\n",
       "      <td>4_retina_disease</td>\n",
       "      <td>Retina_039.png</td>\n",
       "    </tr>\n",
       "    <tr>\n",
       "      <th>600</th>\n",
       "      <td>4_retina_disease</td>\n",
       "      <td>Retina_018.png</td>\n",
       "    </tr>\n",
       "  </tbody>\n",
       "</table>\n",
       "<p>601 rows × 2 columns</p>\n",
       "</div>"
      ],
      "text/plain": [
       "                Class          Images\n",
       "0            1_normal      NL_011.png\n",
       "1            1_normal      NL_040.png\n",
       "2            1_normal      NL_118.png\n",
       "3            1_normal      NL_032.png\n",
       "4            1_normal      NL_116.png\n",
       "..                ...             ...\n",
       "596  4_retina_disease  Retina_013.png\n",
       "597  4_retina_disease  Retina_014.png\n",
       "598  4_retina_disease  Retina_068.png\n",
       "599  4_retina_disease  Retina_039.png\n",
       "600  4_retina_disease  Retina_018.png\n",
       "\n",
       "[601 rows x 2 columns]"
      ]
     },
     "execution_count": 8,
     "metadata": {},
     "output_type": "execute_result"
    }
   ],
   "source": [
    "import pandas as pd\n",
    "from pathlib import Path\n",
    "\n",
    "data = 'dataset/kaggleDataset'\n",
    "\n",
    "paths = [path.parts[-2:] for path in\n",
    "         Path(data).rglob('*.*')]                             #writing purpose ('*.*') so that all image formats can be retrieved\n",
    "df = pd.DataFrame(data=paths, columns=['Class','Images'])     #create column names for dataframe\n",
    "df = df.sort_values('Class',ascending=True)                   #sort class name\n",
    "df.reset_index(drop=True, inplace=True)                       #sort index of each row\n",
    "df          "
   ]
  },
  {
   "cell_type": "code",
   "execution_count": 9,
   "id": "77ce6d4b",
   "metadata": {},
   "outputs": [
    {
     "name": "stdout",
     "output_type": "stream",
     "text": [
      "Count the number of image datasets\n",
      "Image Count : 601\n",
      "Class Count : 4 \n",
      "\n",
      "Count the number of images in each class\n",
      "Class\n",
      "1_normal            300\n",
      "3_glaucoma          101\n",
      "2_cataract          100\n",
      "4_retina_disease    100\n",
      "Name: count, dtype: int64\n"
     ]
    }
   ],
   "source": [
    "print('Count the number of image datasets')\n",
    "print(\"Image Count : {}\".format(len(df.Images)))\n",
    "print(\"Class Count : {} \\n\".format(len(df['Class'].value_counts())))\n",
    "print('Count the number of images in each class')\n",
    "print(df['Class'].value_counts())"
   ]
  },
  {
   "cell_type": "code",
   "execution_count": null,
   "id": "eb440fe6",
   "metadata": {},
   "outputs": [],
   "source": []
  }
 ],
 "metadata": {
  "kernelspec": {
   "display_name": "new-project",
   "language": "python",
   "name": "python3"
  },
  "language_info": {
   "codemirror_mode": {
    "name": "ipython",
    "version": 3
   },
   "file_extension": ".py",
   "mimetype": "text/x-python",
   "name": "python",
   "nbconvert_exporter": "python",
   "pygments_lexer": "ipython3",
   "version": "3.10.18"
  }
 },
 "nbformat": 4,
 "nbformat_minor": 5
}
